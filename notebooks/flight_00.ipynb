{
 "cells": [
  {
   "cell_type": "code",
   "execution_count": 1,
   "id": "cac75fb9-1ee9-40d3-b3ef-1f2f67dc7278",
   "metadata": {},
   "outputs": [],
   "source": [
    "import polars as pl\n",
    "import numpy as np"
   ]
  },
  {
   "cell_type": "code",
   "execution_count": 3,
   "id": "e2c503fb-c827-4f58-a49d-a2679bf934bf",
   "metadata": {},
   "outputs": [
    {
     "name": "stdout",
     "output_type": "stream",
     "text": [
      "Airports: (322, 7)\n",
      "Airlines: (14, 2)\n",
      "Flights: (5819079, 31)\n"
     ]
    }
   ],
   "source": [
    "airports = pl.read_csv(\"./../data/airports.csv\")\n",
    "airlines = pl.read_csv(\"./../data/airlines.csv\")\n",
    "flights = pl.read_csv(\"./../data/flights.csv\")\n",
    "\n",
    "print(\"Airports:\", airports.shape)\n",
    "print(\"Airlines:\", airlines.shape)\n",
    "print(\"Flights:\", flights.shape)\n"
   ]
  },
  {
   "cell_type": "code",
   "execution_count": 4,
   "id": "cb13ed4e-e38c-433d-96a4-eb4e932e3b03",
   "metadata": {},
   "outputs": [],
   "source": [
    "#--renaming and standardizing columns\n",
    "\n",
    "airports = airports.rename({\n",
    "    \"IATA_CODE\": \"AIRPORT_CODE\",\n",
    "    \"AIRPORT\": \"AIRPORT_NAME\",\n",
    "    \"CITY\": \"CITY\",\n",
    "    \"STATE\": \"STATE\",\n",
    "    \"COUNTRY\": \"COUNTRY\",\n",
    "    \"LATITUDE\": \"LAT\",\n",
    "    \"LONGITUDE\": \"LON\"\n",
    "})\n",
    "\n",
    "airlines = airlines.rename({\n",
    "    \"IATA_CODE\": \"AIRLINE_CODE\",\n",
    "    \"AIRLINE\": \"AIRLINE_NAME\"\n",
    "})\n",
    "\n",
    "flights = flights.rename({\n",
    "    \"YEAR\": \"YEAR\",\n",
    "    \"MONTH\": \"MONTH\",\n",
    "    \"DAY\": \"DAY\",\n",
    "    \"DAY_OF_WEEK\": \"DAY_OF_WEEK\",\n",
    "    \"AIRLINE\": \"AIRLINE_CODE\",\n",
    "    \"FLIGHT_NUMBER\": \"FLIGHT_NUM\",\n",
    "    \"TAIL_NUMBER\": \"TAIL_NUM\",\n",
    "    \"ORIGIN_AIRPORT\": \"ORIGIN_CODE\",\n",
    "    \"DESTINATION_AIRPORT\": \"DEST_CODE\",\n",
    "    \"SCHEDULED_DEPARTURE\": \"SCHED_DEP\",\n",
    "    \"DEPARTURE_TIME\": \"DEP_TIME\",\n",
    "    \"DEPARTURE_DELAY\": \"DEP_DELAY\",\n",
    "    \"TAXI_OUT\": \"TAXI_OUT\",\n",
    "    \"WHEELS_OFF\": \"WHEELS_OFF\",\n",
    "    \"SCHEDULED_TIME\": \"SCHED_TIME\",\n",
    "    \"ELAPSED_TIME\": \"ELAPSED_TIME\",\n",
    "    \"AIR_TIME\": \"AIR_TIME\",\n",
    "    \"DISTANCE\": \"DISTANCE\",\n",
    "    \"WHEELS_ON\": \"WHEELS_ON\",\n",
    "    \"TAXI_IN\": \"TAXI_IN\",\n",
    "    \"SCHEDULED_ARRIVAL\": \"SCHED_ARR\",\n",
    "    \"ARRIVAL_TIME\": \"ARR_TIME\",\n",
    "    \"ARRIVAL_DELAY\": \"ARR_DELAY\",\n",
    "    \"DIVERTED\": \"DIVERTED\",\n",
    "    \"CANCELLED\": \"CANCELLED\",\n",
    "    \"CANCELLATION_REASON\": \"CANCEL_REASON\",\n",
    "    \"AIR_SYSTEM_DELAY\": \"AIR_SYS_DELAY\",\n",
    "    \"SECURITY_DELAY\": \"SEC_DELAY\",\n",
    "    \"AIRLINE_DELAY\": \"AIRLINE_DELAY\",\n",
    "    \"LATE_AIRCRAFT_DELAY\": \"LATE_AC_DELAY\",\n",
    "    \"WEATHER_DELAY\": \"WEATHER_DELAY\"\n",
    "})\n"
   ]
  },
  {
   "cell_type": "code",
   "execution_count": 5,
   "id": "c9cc8fd3-5e5c-4565-895e-de32e6825108",
   "metadata": {},
   "outputs": [
    {
     "name": "stdout",
     "output_type": "stream",
     "text": [
      "Cleaned flights: (5819079, 35)\n"
     ]
    }
   ],
   "source": [
    "# -- converting delay columns to float and replacing null values\n",
    "delay_cols = [\"DEP_DELAY\", \"ARR_DELAY\", \"AIR_SYS_DELAY\", \"SEC_DELAY\",\n",
    "              \"AIRLINE_DELAY\", \"LATE_AC_DELAY\", \"WEATHER_DELAY\"]\n",
    "\n",
    "flights = flights.with_columns([\n",
    "    flights[col].fill_null(0).cast(pl.Float64) for col in delay_cols\n",
    "])\n",
    "\n",
    "\n",
    "# --- Convert Diverted & Cancelled to Boolean\n",
    "flights = flights.with_columns([\n",
    "    flights[\"DIVERTED\"].cast(pl.Boolean),\n",
    "    flights[\"CANCELLED\"].cast(pl.Boolean)\n",
    "])\n",
    "\n",
    "\n",
    "# --- Clean cancellation reason (\"null\" → None)\n",
    "flights = flights.with_columns(\n",
    "    pl.when((flights[\"CANCEL_REASON\"] == \"null\") | (flights[\"CANCEL_REASON\"] == \"\"))\n",
    "      .then(None)\n",
    "      .otherwise(flights[\"CANCEL_REASON\"])\n",
    "      .alias(\"CANCEL_REASON\")\n",
    ")\n",
    "\n",
    "# --- Parse scheduled/actual times (HHMM → datetime)\n",
    "def parse_time(df, col):\n",
    "    return (\n",
    "        df[col]\n",
    "        .cast(pl.Int32)\n",
    "        .fill_null(-1)\n",
    "        .cast(str)\n",
    "        .str.zfill(4)\n",
    "        .str.strptime(pl.Datetime, \"%H%M\", strict=False)\n",
    "    )\n",
    "\n",
    "flights = flights.with_columns([\n",
    "    parse_time(flights, \"SCHED_DEP\").alias(\"SCHED_DEP_TIME\"),\n",
    "    parse_time(flights, \"DEP_TIME\").alias(\"DEP_TIME_CLEAN\"),\n",
    "    parse_time(flights, \"SCHED_ARR\").alias(\"SCHED_ARR_TIME\"),\n",
    "    parse_time(flights, \"ARR_TIME\").alias(\"ARR_TIME_CLEAN\")\n",
    "])\n",
    "\n",
    "print(\"Cleaned flights:\", flights.shape)"
   ]
  },
  {
   "cell_type": "code",
   "execution_count": 6,
   "id": "6e897fac-7fc3-4364-95e4-77165a2eac88",
   "metadata": {
    "scrolled": true
   },
   "outputs": [
    {
     "data": {
      "text/html": [
       "<div><style>\n",
       ".dataframe > thead > tr,\n",
       ".dataframe > tbody > tr {\n",
       "  text-align: right;\n",
       "  white-space: pre-wrap;\n",
       "}\n",
       "</style>\n",
       "<small>shape: (5, 35)</small><table border=\"1\" class=\"dataframe\"><thead><tr><th>YEAR</th><th>MONTH</th><th>DAY</th><th>DAY_OF_WEEK</th><th>AIRLINE_CODE</th><th>FLIGHT_NUM</th><th>TAIL_NUM</th><th>ORIGIN_CODE</th><th>DEST_CODE</th><th>SCHED_DEP</th><th>DEP_TIME</th><th>DEP_DELAY</th><th>TAXI_OUT</th><th>WHEELS_OFF</th><th>SCHED_TIME</th><th>ELAPSED_TIME</th><th>AIR_TIME</th><th>DISTANCE</th><th>WHEELS_ON</th><th>TAXI_IN</th><th>SCHED_ARR</th><th>ARR_TIME</th><th>ARR_DELAY</th><th>DIVERTED</th><th>CANCELLED</th><th>CANCEL_REASON</th><th>AIR_SYS_DELAY</th><th>SEC_DELAY</th><th>AIRLINE_DELAY</th><th>LATE_AC_DELAY</th><th>WEATHER_DELAY</th><th>SCHED_DEP_TIME</th><th>DEP_TIME_CLEAN</th><th>SCHED_ARR_TIME</th><th>ARR_TIME_CLEAN</th></tr><tr><td>i64</td><td>i64</td><td>i64</td><td>i64</td><td>str</td><td>i64</td><td>str</td><td>str</td><td>str</td><td>i64</td><td>i64</td><td>f64</td><td>i64</td><td>i64</td><td>i64</td><td>i64</td><td>i64</td><td>i64</td><td>i64</td><td>i64</td><td>i64</td><td>i64</td><td>f64</td><td>bool</td><td>bool</td><td>str</td><td>f64</td><td>f64</td><td>f64</td><td>f64</td><td>f64</td><td>datetime[μs]</td><td>datetime[μs]</td><td>datetime[μs]</td><td>datetime[μs]</td></tr></thead><tbody><tr><td>2015</td><td>1</td><td>1</td><td>4</td><td>&quot;AS&quot;</td><td>98</td><td>&quot;N407AS&quot;</td><td>&quot;ANC&quot;</td><td>&quot;SEA&quot;</td><td>5</td><td>2354</td><td>-11.0</td><td>21</td><td>15</td><td>205</td><td>194</td><td>169</td><td>1448</td><td>404</td><td>4</td><td>430</td><td>408</td><td>-22.0</td><td>false</td><td>false</td><td>null</td><td>0.0</td><td>0.0</td><td>0.0</td><td>0.0</td><td>0.0</td><td>0001-01-01 00:05:00</td><td>0001-01-01 23:54:00</td><td>0001-01-01 04:30:00</td><td>0001-01-01 04:08:00</td></tr><tr><td>2015</td><td>1</td><td>1</td><td>4</td><td>&quot;AA&quot;</td><td>2336</td><td>&quot;N3KUAA&quot;</td><td>&quot;LAX&quot;</td><td>&quot;PBI&quot;</td><td>10</td><td>2</td><td>-8.0</td><td>12</td><td>14</td><td>280</td><td>279</td><td>263</td><td>2330</td><td>737</td><td>4</td><td>750</td><td>741</td><td>-9.0</td><td>false</td><td>false</td><td>null</td><td>0.0</td><td>0.0</td><td>0.0</td><td>0.0</td><td>0.0</td><td>0001-01-01 00:10:00</td><td>0001-01-01 00:02:00</td><td>0001-01-01 07:50:00</td><td>0001-01-01 07:41:00</td></tr><tr><td>2015</td><td>1</td><td>1</td><td>4</td><td>&quot;US&quot;</td><td>840</td><td>&quot;N171US&quot;</td><td>&quot;SFO&quot;</td><td>&quot;CLT&quot;</td><td>20</td><td>18</td><td>-2.0</td><td>16</td><td>34</td><td>286</td><td>293</td><td>266</td><td>2296</td><td>800</td><td>11</td><td>806</td><td>811</td><td>5.0</td><td>false</td><td>false</td><td>null</td><td>0.0</td><td>0.0</td><td>0.0</td><td>0.0</td><td>0.0</td><td>0001-01-01 00:20:00</td><td>0001-01-01 00:18:00</td><td>0001-01-01 08:06:00</td><td>0001-01-01 08:11:00</td></tr><tr><td>2015</td><td>1</td><td>1</td><td>4</td><td>&quot;AA&quot;</td><td>258</td><td>&quot;N3HYAA&quot;</td><td>&quot;LAX&quot;</td><td>&quot;MIA&quot;</td><td>20</td><td>15</td><td>-5.0</td><td>15</td><td>30</td><td>285</td><td>281</td><td>258</td><td>2342</td><td>748</td><td>8</td><td>805</td><td>756</td><td>-9.0</td><td>false</td><td>false</td><td>null</td><td>0.0</td><td>0.0</td><td>0.0</td><td>0.0</td><td>0.0</td><td>0001-01-01 00:20:00</td><td>0001-01-01 00:15:00</td><td>0001-01-01 08:05:00</td><td>0001-01-01 07:56:00</td></tr><tr><td>2015</td><td>1</td><td>1</td><td>4</td><td>&quot;AS&quot;</td><td>135</td><td>&quot;N527AS&quot;</td><td>&quot;SEA&quot;</td><td>&quot;ANC&quot;</td><td>25</td><td>24</td><td>-1.0</td><td>11</td><td>35</td><td>235</td><td>215</td><td>199</td><td>1448</td><td>254</td><td>5</td><td>320</td><td>259</td><td>-21.0</td><td>false</td><td>false</td><td>null</td><td>0.0</td><td>0.0</td><td>0.0</td><td>0.0</td><td>0.0</td><td>0001-01-01 00:25:00</td><td>0001-01-01 00:24:00</td><td>0001-01-01 03:20:00</td><td>0001-01-01 02:59:00</td></tr></tbody></table></div>"
      ],
      "text/plain": [
       "shape: (5, 35)\n",
       "┌──────┬───────┬─────┬─────────────┬───┬──────────────┬──────────────┬──────────────┬──────────────┐\n",
       "│ YEAR ┆ MONTH ┆ DAY ┆ DAY_OF_WEEK ┆ … ┆ SCHED_DEP_TI ┆ DEP_TIME_CLE ┆ SCHED_ARR_TI ┆ ARR_TIME_CLE │\n",
       "│ ---  ┆ ---   ┆ --- ┆ ---         ┆   ┆ ME           ┆ AN           ┆ ME           ┆ AN           │\n",
       "│ i64  ┆ i64   ┆ i64 ┆ i64         ┆   ┆ ---          ┆ ---          ┆ ---          ┆ ---          │\n",
       "│      ┆       ┆     ┆             ┆   ┆ datetime[μs] ┆ datetime[μs] ┆ datetime[μs] ┆ datetime[μs] │\n",
       "╞══════╪═══════╪═════╪═════════════╪═══╪══════════════╪══════════════╪══════════════╪══════════════╡\n",
       "│ 2015 ┆ 1     ┆ 1   ┆ 4           ┆ … ┆ 0001-01-01   ┆ 0001-01-01   ┆ 0001-01-01   ┆ 0001-01-01   │\n",
       "│      ┆       ┆     ┆             ┆   ┆ 00:05:00     ┆ 23:54:00     ┆ 04:30:00     ┆ 04:08:00     │\n",
       "│ 2015 ┆ 1     ┆ 1   ┆ 4           ┆ … ┆ 0001-01-01   ┆ 0001-01-01   ┆ 0001-01-01   ┆ 0001-01-01   │\n",
       "│      ┆       ┆     ┆             ┆   ┆ 00:10:00     ┆ 00:02:00     ┆ 07:50:00     ┆ 07:41:00     │\n",
       "│ 2015 ┆ 1     ┆ 1   ┆ 4           ┆ … ┆ 0001-01-01   ┆ 0001-01-01   ┆ 0001-01-01   ┆ 0001-01-01   │\n",
       "│      ┆       ┆     ┆             ┆   ┆ 00:20:00     ┆ 00:18:00     ┆ 08:06:00     ┆ 08:11:00     │\n",
       "│ 2015 ┆ 1     ┆ 1   ┆ 4           ┆ … ┆ 0001-01-01   ┆ 0001-01-01   ┆ 0001-01-01   ┆ 0001-01-01   │\n",
       "│      ┆       ┆     ┆             ┆   ┆ 00:20:00     ┆ 00:15:00     ┆ 08:05:00     ┆ 07:56:00     │\n",
       "│ 2015 ┆ 1     ┆ 1   ┆ 4           ┆ … ┆ 0001-01-01   ┆ 0001-01-01   ┆ 0001-01-01   ┆ 0001-01-01   │\n",
       "│      ┆       ┆     ┆             ┆   ┆ 00:25:00     ┆ 00:24:00     ┆ 03:20:00     ┆ 02:59:00     │\n",
       "└──────┴───────┴─────┴─────────────┴───┴──────────────┴──────────────┴──────────────┴──────────────┘"
      ]
     },
     "execution_count": 6,
     "metadata": {},
     "output_type": "execute_result"
    }
   ],
   "source": [
    "flights.head()"
   ]
  },
  {
   "cell_type": "code",
   "execution_count": 7,
   "id": "f7207fde-ba2b-43f9-bfca-24e714046e51",
   "metadata": {},
   "outputs": [
    {
     "name": "stdout",
     "output_type": "stream",
     "text": [
      "Final flights dataset: (5819079, 42)\n"
     ]
    }
   ],
   "source": [
    "# --- merge datasets ---\n",
    "\n",
    "flights = flights.join(airlines, on=\"AIRLINE_CODE\", how=\"left\")\n",
    "\n",
    "flights = flights.join(\n",
    "    airports.select([\"AIRPORT_CODE\", \"AIRPORT_NAME\", \"CITY\", \"STATE\"]),\n",
    "    left_on=\"ORIGIN_CODE\", right_on=\"AIRPORT_CODE\", how=\"left\"\n",
    ").rename({\n",
    "    \"AIRPORT_NAME\": \"ORIGIN_AIRPORT_NAME\",\n",
    "    \"CITY\": \"ORIGIN_CITY\",\n",
    "    \"STATE\": \"ORIGIN_STATE\"\n",
    "})\n",
    "\n",
    "\n",
    "flights = flights.join(\n",
    "    airports.select([\"AIRPORT_CODE\", \"AIRPORT_NAME\", \"CITY\", \"STATE\"]),\n",
    "    left_on=\"DEST_CODE\", right_on=\"AIRPORT_CODE\", how=\"left\"\n",
    ").rename({\n",
    "    \"AIRPORT_NAME\": \"DEST_AIRPORT_NAME\",\n",
    "    \"CITY\": \"DEST_CITY\",\n",
    "    \"STATE\": \"DEST_STATE\"\n",
    "})\n",
    "\n",
    "\n",
    "print(\"Final flights dataset:\", flights.shape)"
   ]
  },
  {
   "cell_type": "code",
   "execution_count": 8,
   "id": "4347bfee-6d40-4c8a-8f63-7539a4f100fd",
   "metadata": {},
   "outputs": [],
   "source": [
    "flight_data = flights"
   ]
  },
  {
   "cell_type": "code",
   "execution_count": 15,
   "id": "b01e0821-3017-46b6-a2a6-0fcfab282b13",
   "metadata": {},
   "outputs": [
    {
     "name": "stdout",
     "output_type": "stream",
     "text": [
      "shape: (1, 4)\n",
      "┌─────────────────┬────────────────────────┬─────────────────────────────┬───────────────┐\n",
      "│ Unique Airlines ┆ Unique Origin Airports ┆ Unique Destination Airports ┆ Total Flights │\n",
      "│ ---             ┆ ---                    ┆ ---                         ┆ ---           │\n",
      "│ u32             ┆ u32                    ┆ u32                         ┆ u32           │\n",
      "╞═════════════════╪════════════════════════╪═════════════════════════════╪═══════════════╡\n",
      "│ 14              ┆ 628                    ┆ 629                         ┆ 5819079       │\n",
      "└─────────────────┴────────────────────────┴─────────────────────────────┴───────────────┘\n"
     ]
    }
   ],
   "source": [
    "# -- data summary -- \n",
    "\n",
    "print(\n",
    "   flight_data.select([\n",
    "    pl.col(\"AIRLINE_NAME\").n_unique().alias(\"Unique Airlines\"),\n",
    "    pl.col(\"ORIGIN_CODE\").n_unique().alias(\"Unique Origin Airports\"),\n",
    "    pl.col(\"DEST_CODE\").n_unique().alias(\"Unique Destination Airports\"),\n",
    "    pl.col(\"FLIGHT_NUM\").count().alias(\"Total Flights\")\n",
    "])\n",
    ")"
   ]
  },
  {
   "cell_type": "code",
   "execution_count": 17,
   "id": "bc94ebd6-1679-4fa5-8273-419be48e3ca6",
   "metadata": {},
   "outputs": [],
   "source": [
    "flight_data.write_csv(\"./../data/cleaned_flight_data.csv\")"
   ]
  },
  {
   "cell_type": "code",
   "execution_count": null,
   "id": "c4875d37-23d2-4382-81a0-8d49cd1a0e51",
   "metadata": {},
   "outputs": [],
   "source": []
  }
 ],
 "metadata": {
  "kernelspec": {
   "display_name": "Python 3 (ipykernel)",
   "language": "python",
   "name": "python3"
  },
  "language_info": {
   "codemirror_mode": {
    "name": "ipython",
    "version": 3
   },
   "file_extension": ".py",
   "mimetype": "text/x-python",
   "name": "python",
   "nbconvert_exporter": "python",
   "pygments_lexer": "ipython3",
   "version": "3.11.13"
  }
 },
 "nbformat": 4,
 "nbformat_minor": 5
}
